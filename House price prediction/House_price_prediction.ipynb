{
  "nbformat": 4,
  "nbformat_minor": 0,
  "metadata": {
    "colab": {
      "name": "Portfolio_05-ml-05-amaliyot.ipynb",
      "provenance": [],
      "collapsed_sections": [],
      "toc_visible": true,
      "include_colab_link": true
    },
    "kernelspec": {
      "name": "python3",
      "display_name": "Python 3"
    },
    "language_info": {
      "name": "python"
    }
  },
  "cells": [
    {
      "cell_type": "markdown",
      "metadata": {
        "id": "view-in-github",
        "colab_type": "text"
      },
      "source": [
        "<a href=\"https://colab.research.google.com/github/Jakhongir0103/ML-DL_basic_projects/blob/main/House%20price%20prediction/House_price_prediction.ipynb\" target=\"_parent\"><img src=\"https://colab.research.google.com/assets/colab-badge.svg\" alt=\"Open In Colab\"/></a>"
      ]
    },
    {
      "cell_type": "markdown",
      "source": [
        "#This model predicts the price of the houses in Uzbekistan, Tashkent"
      ],
      "metadata": {
        "id": "l3W95ME8Br6P"
      }
    },
    {
      "cell_type": "code",
      "source": [
        "import pandas as pd\n",
        "import numpy as np\n",
        "import sklearn\n",
        "import matplotlib.pyplot as plt\n",
        "%matplotlib inline\n",
        "import seaborn as sns"
      ],
      "metadata": {
        "id": "jECnrDdgxcG3"
      },
      "execution_count": null,
      "outputs": []
    },
    {
      "cell_type": "code",
      "execution_count": null,
      "metadata": {
        "colab": {
          "base_uri": "https://localhost:8080/",
          "height": 206
        },
        "id": "ZNYzfPKab-o4",
        "outputId": "3b56e0b7-50b7-4418-f1a8-cd367ff9ab68"
      },
      "outputs": [
        {
          "output_type": "execute_result",
          "data": {
            "text/plain": [
              "                                            location       district  rooms  \\\n",
              "0  город Ташкент, Юнусабадский район, Юнусабад 8-...   Юнусабадский      3   \n",
              "1  город Ташкент, Яккасарайский район, 1-й тупик ...  Яккасарайский      2   \n",
              "2  город Ташкент, Чиланзарский район, Чиланзар 2-...   Чиланзарский      2   \n",
              "3  город Ташкент, Чиланзарский район, Чиланзар 9-...   Чиланзарский      3   \n",
              "4  город Ташкент, Чиланзарский район, площадь Актепа   Чиланзарский      3   \n",
              "\n",
              "  size  level  max_levels  price  \n",
              "0   57      4           4  52000  \n",
              "1   52      4           5  56000  \n",
              "2   42      4           4  37000  \n",
              "3   65      1           4  49500  \n",
              "4   70      3           5  55000  "
            ],
            "text/html": [
              "\n",
              "  <div id=\"df-ab9dd229-e1e2-4830-8220-44c199d8cf11\">\n",
              "    <div class=\"colab-df-container\">\n",
              "      <div>\n",
              "<style scoped>\n",
              "    .dataframe tbody tr th:only-of-type {\n",
              "        vertical-align: middle;\n",
              "    }\n",
              "\n",
              "    .dataframe tbody tr th {\n",
              "        vertical-align: top;\n",
              "    }\n",
              "\n",
              "    .dataframe thead th {\n",
              "        text-align: right;\n",
              "    }\n",
              "</style>\n",
              "<table border=\"1\" class=\"dataframe\">\n",
              "  <thead>\n",
              "    <tr style=\"text-align: right;\">\n",
              "      <th></th>\n",
              "      <th>location</th>\n",
              "      <th>district</th>\n",
              "      <th>rooms</th>\n",
              "      <th>size</th>\n",
              "      <th>level</th>\n",
              "      <th>max_levels</th>\n",
              "      <th>price</th>\n",
              "    </tr>\n",
              "  </thead>\n",
              "  <tbody>\n",
              "    <tr>\n",
              "      <th>0</th>\n",
              "      <td>город Ташкент, Юнусабадский район, Юнусабад 8-...</td>\n",
              "      <td>Юнусабадский</td>\n",
              "      <td>3</td>\n",
              "      <td>57</td>\n",
              "      <td>4</td>\n",
              "      <td>4</td>\n",
              "      <td>52000</td>\n",
              "    </tr>\n",
              "    <tr>\n",
              "      <th>1</th>\n",
              "      <td>город Ташкент, Яккасарайский район, 1-й тупик ...</td>\n",
              "      <td>Яккасарайский</td>\n",
              "      <td>2</td>\n",
              "      <td>52</td>\n",
              "      <td>4</td>\n",
              "      <td>5</td>\n",
              "      <td>56000</td>\n",
              "    </tr>\n",
              "    <tr>\n",
              "      <th>2</th>\n",
              "      <td>город Ташкент, Чиланзарский район, Чиланзар 2-...</td>\n",
              "      <td>Чиланзарский</td>\n",
              "      <td>2</td>\n",
              "      <td>42</td>\n",
              "      <td>4</td>\n",
              "      <td>4</td>\n",
              "      <td>37000</td>\n",
              "    </tr>\n",
              "    <tr>\n",
              "      <th>3</th>\n",
              "      <td>город Ташкент, Чиланзарский район, Чиланзар 9-...</td>\n",
              "      <td>Чиланзарский</td>\n",
              "      <td>3</td>\n",
              "      <td>65</td>\n",
              "      <td>1</td>\n",
              "      <td>4</td>\n",
              "      <td>49500</td>\n",
              "    </tr>\n",
              "    <tr>\n",
              "      <th>4</th>\n",
              "      <td>город Ташкент, Чиланзарский район, площадь Актепа</td>\n",
              "      <td>Чиланзарский</td>\n",
              "      <td>3</td>\n",
              "      <td>70</td>\n",
              "      <td>3</td>\n",
              "      <td>5</td>\n",
              "      <td>55000</td>\n",
              "    </tr>\n",
              "  </tbody>\n",
              "</table>\n",
              "</div>\n",
              "      <button class=\"colab-df-convert\" onclick=\"convertToInteractive('df-ab9dd229-e1e2-4830-8220-44c199d8cf11')\"\n",
              "              title=\"Convert this dataframe to an interactive table.\"\n",
              "              style=\"display:none;\">\n",
              "        \n",
              "  <svg xmlns=\"http://www.w3.org/2000/svg\" height=\"24px\"viewBox=\"0 0 24 24\"\n",
              "       width=\"24px\">\n",
              "    <path d=\"M0 0h24v24H0V0z\" fill=\"none\"/>\n",
              "    <path d=\"M18.56 5.44l.94 2.06.94-2.06 2.06-.94-2.06-.94-.94-2.06-.94 2.06-2.06.94zm-11 1L8.5 8.5l.94-2.06 2.06-.94-2.06-.94L8.5 2.5l-.94 2.06-2.06.94zm10 10l.94 2.06.94-2.06 2.06-.94-2.06-.94-.94-2.06-.94 2.06-2.06.94z\"/><path d=\"M17.41 7.96l-1.37-1.37c-.4-.4-.92-.59-1.43-.59-.52 0-1.04.2-1.43.59L10.3 9.45l-7.72 7.72c-.78.78-.78 2.05 0 2.83L4 21.41c.39.39.9.59 1.41.59.51 0 1.02-.2 1.41-.59l7.78-7.78 2.81-2.81c.8-.78.8-2.07 0-2.86zM5.41 20L4 18.59l7.72-7.72 1.47 1.35L5.41 20z\"/>\n",
              "  </svg>\n",
              "      </button>\n",
              "      \n",
              "  <style>\n",
              "    .colab-df-container {\n",
              "      display:flex;\n",
              "      flex-wrap:wrap;\n",
              "      gap: 12px;\n",
              "    }\n",
              "\n",
              "    .colab-df-convert {\n",
              "      background-color: #E8F0FE;\n",
              "      border: none;\n",
              "      border-radius: 50%;\n",
              "      cursor: pointer;\n",
              "      display: none;\n",
              "      fill: #1967D2;\n",
              "      height: 32px;\n",
              "      padding: 0 0 0 0;\n",
              "      width: 32px;\n",
              "    }\n",
              "\n",
              "    .colab-df-convert:hover {\n",
              "      background-color: #E2EBFA;\n",
              "      box-shadow: 0px 1px 2px rgba(60, 64, 67, 0.3), 0px 1px 3px 1px rgba(60, 64, 67, 0.15);\n",
              "      fill: #174EA6;\n",
              "    }\n",
              "\n",
              "    [theme=dark] .colab-df-convert {\n",
              "      background-color: #3B4455;\n",
              "      fill: #D2E3FC;\n",
              "    }\n",
              "\n",
              "    [theme=dark] .colab-df-convert:hover {\n",
              "      background-color: #434B5C;\n",
              "      box-shadow: 0px 1px 3px 1px rgba(0, 0, 0, 0.15);\n",
              "      filter: drop-shadow(0px 1px 2px rgba(0, 0, 0, 0.3));\n",
              "      fill: #FFFFFF;\n",
              "    }\n",
              "  </style>\n",
              "\n",
              "      <script>\n",
              "        const buttonEl =\n",
              "          document.querySelector('#df-ab9dd229-e1e2-4830-8220-44c199d8cf11 button.colab-df-convert');\n",
              "        buttonEl.style.display =\n",
              "          google.colab.kernel.accessAllowed ? 'block' : 'none';\n",
              "\n",
              "        async function convertToInteractive(key) {\n",
              "          const element = document.querySelector('#df-ab9dd229-e1e2-4830-8220-44c199d8cf11');\n",
              "          const dataTable =\n",
              "            await google.colab.kernel.invokeFunction('convertToInteractive',\n",
              "                                                     [key], {});\n",
              "          if (!dataTable) return;\n",
              "\n",
              "          const docLinkHtml = 'Like what you see? Visit the ' +\n",
              "            '<a target=\"_blank\" href=https://colab.research.google.com/notebooks/data_table.ipynb>data table notebook</a>'\n",
              "            + ' to learn more about interactive tables.';\n",
              "          element.innerHTML = '';\n",
              "          dataTable['output_type'] = 'display_data';\n",
              "          await google.colab.output.renderOutput(dataTable, element);\n",
              "          const docLink = document.createElement('div');\n",
              "          docLink.innerHTML = docLinkHtml;\n",
              "          element.appendChild(docLink);\n",
              "        }\n",
              "      </script>\n",
              "    </div>\n",
              "  </div>\n",
              "  "
            ]
          },
          "metadata": {},
          "execution_count": 13
        }
      ],
      "source": [
        "df = pd.read_csv('https://raw.githubusercontent.com/anvarnarz/praktikum_datasets/main/housing_data_08-02-2021.csv')\n",
        "df.head()"
      ]
    },
    {
      "cell_type": "markdown",
      "source": [
        "### Some info about the columns info\n",
        "- `location` - locations in Tashkent, given in Russian\n",
        "- `district` - districts in Tashkent, given in Russian\n",
        "- `size` - size in sq.m\n",
        "- `level` - the level in which the house is located\n",
        "- `max_levels` - maximum levels number in the whole building\n",
        "- `price` - price in usd"
      ],
      "metadata": {
        "id": "ALZ6F7FnCEsn"
      }
    },
    {
      "cell_type": "code",
      "source": [
        "df.hist(bins=50, figsize=(10,8))\n",
        "plt.show()"
      ],
      "metadata": {
        "colab": {
          "base_uri": "https://localhost:8080/",
          "height": 499
        },
        "id": "HTLsPwKCJjq3",
        "outputId": "1d464469-857c-4465-db96-aa9716273ac3"
      },
      "execution_count": null,
      "outputs": [
        {
          "output_type": "display_data",
          "data": {
            "text/plain": [
              "<Figure size 720x576 with 4 Axes>"
            ],
            "image/png": "[encoded data removed]"
          },
          "metadata": {
            "needs_background": "light"
          }
        }
      ]
    },
    {
      "cell_type": "markdown",
      "source": [
        "#Train and Test sets"
      ],
      "metadata": {
        "id": "HqhLGR9Ddd7n"
      }
    },
    {
      "cell_type": "code",
      "source": [
        "from sklearn.model_selection import train_test_split\n",
        "train_set, test_set = train_test_split(df, test_size=0.2, random_state=42)"
      ],
      "metadata": {
        "id": "gEXVetXadVEs"
      },
      "execution_count": null,
      "outputs": []
    },
    {
      "cell_type": "markdown",
      "source": [
        "# Data filtering with sklearn"
      ],
      "metadata": {
        "id": "_gjfrCISlgja"
      }
    },
    {
      "cell_type": "code",
      "source": [
        "### create a new coloumn\n",
        "from sklearn.base import BaseEstimator, TransformerMixin\n",
        "\n",
        "class CombinedAttributesAdder(BaseEstimator, TransformerMixin):\n",
        "    def fit(self, X, y=None):\n",
        "        return self \n",
        "    def transform(self, X):\n",
        "        X['remaining_levels'] = X['max_levels'] - X['level']\n",
        "        return X"
      ],
      "metadata": {
        "id": "1S0R7iPLlmAp"
      },
      "execution_count": null,
      "outputs": []
    },
    {
      "cell_type": "code",
      "source": [
        "### filter price column\n",
        "\n",
        "class FilterPrice(BaseEstimator, TransformerMixin):\n",
        "    def fit(self, X, y=None):\n",
        "        return self \n",
        "    def transform(self, X):\n",
        "        if X['price'].dtype != int:\n",
        "          if sum(X['price'] == 'Договорная') > 0:\n",
        "            X.drop(index=X[X['price'] == 'Договорная'].index, inplace=True)\n",
        "          X['price'] = pd.to_numeric(X['price'])\n",
        "        if sum(X['price'] > 800000) > 0: #we remove the rows with the price over 800000; as there are few of them and they may affect the accuracy of our model\n",
        "          X.drop(index=X[X['price'] > 800000].index, inplace=True)\n",
        "        return X"
      ],
      "metadata": {
        "id": "9YEzG_QYgFt9"
      },
      "execution_count": null,
      "outputs": []
    },
    {
      "cell_type": "code",
      "source": [
        "### filter size column\n",
        "\n",
        "class FilterSize(BaseEstimator, TransformerMixin):\n",
        "    def fit(self, X, y=None):\n",
        "        return self \n",
        "    def transform(self, X):\n",
        "      if X['size'].dtype != int:\n",
        "        if sum(X['size'] == 'Площадьземли:1сот') > 0:\n",
        "          X['size'] = X['size'].replace(to_replace='Площадьземли:1сот', value='100')\n",
        "        X['size'] = pd.to_numeric(X['size'])\n",
        "      if sum(X['size'] > 7000) > 0: #we remove the rows with the size over 7000; as there are few of them and they may affect the accuracy of our modle\n",
        "        X.drop(index=X[X['size'] > 7000].index, inplace=True)\n",
        "      return X"
      ],
      "metadata": {
        "id": "pQyolvMogFbP"
      },
      "execution_count": null,
      "outputs": []
    },
    {
      "cell_type": "markdown",
      "source": [
        "#Pipeline "
      ],
      "metadata": {
        "id": "phdaUM1eqnXx"
      }
    },
    {
      "cell_type": "code",
      "source": [
        "from sklearn.pipeline import Pipeline"
      ],
      "metadata": {
        "id": "GO7P0kCzvsvf"
      },
      "execution_count": null,
      "outputs": []
    },
    {
      "cell_type": "code",
      "source": [
        "#whole data\n",
        "\n",
        "general_pipeline = Pipeline([\n",
        "          ('price_filter', FilterPrice()),\n",
        "          ('size_filter', FilterSize()),\n",
        "          ('attribs_adder', CombinedAttributesAdder())          \n",
        "])"
      ],
      "metadata": {
        "id": "qy4GZIiEvyW4"
      },
      "execution_count": null,
      "outputs": []
    },
    {
      "cell_type": "code",
      "source": [
        "#numeric data\n",
        "from sklearn.preprocessing import StandardScaler\n",
        "\n",
        "num_pipeline = Pipeline([\n",
        "          ('std_scaler', StandardScaler())             \n",
        "])"
      ],
      "metadata": {
        "id": "8aM1GfJfJSEr"
      },
      "execution_count": null,
      "outputs": []
    },
    {
      "cell_type": "code",
      "source": [
        "from sklearn.preprocessing import OrdinalEncoder\n",
        "from sklearn.compose import ColumnTransformer\n",
        "\n",
        "def filterData(data):\n",
        "  data = general_pipeline.fit_transform(data)\n",
        "\n",
        "  data_cat = data[['location', 'district']] #non-numeric columns\n",
        "  data_num = data[['rooms', 'size', 'level', 'max_levels', 'price', 'remaining_levels']] #numeric columns\n",
        "\n",
        "  num_attribs = list(data_num)\n",
        "  cat_attribs = list(data_cat)\n",
        "\n",
        "  full_pipeline = ColumnTransformer([\n",
        "      ('num', num_pipeline, num_attribs),\n",
        "      ('cat', OrdinalEncoder(), cat_attribs)\n",
        "  ])\n",
        "  \n",
        "  return full_pipeline.fit_transform(train_set)"
      ],
      "metadata": {
        "id": "r3qZlsx6mqfd"
      },
      "execution_count": null,
      "outputs": []
    },
    {
      "cell_type": "code",
      "source": [
        "filtered_train_set = filterData(train_set)"
      ],
      "metadata": {
        "id": "_09JVQZg3LZu"
      },
      "execution_count": null,
      "outputs": []
    },
    {
      "cell_type": "code",
      "source": [
        "X_train_set = filtered_train_set[:,[1,2,3,4,5,7]]\n",
        "Y_train_set = filtered_train_set[:,6]"
      ],
      "metadata": {
        "id": "zYS3ct3u4Nhn"
      },
      "execution_count": null,
      "outputs": []
    },
    {
      "cell_type": "markdown",
      "source": [
        "filtered data"
      ],
      "metadata": {
        "id": "0TDRNpixLA-h"
      }
    },
    {
      "cell_type": "code",
      "source": [
        "new_df = pd.DataFrame(data=filtered_train_set, columns=['location', 'district', 'rooms', 'size', 'level', 'max_levels', 'price', 'remaining_levels'])\n",
        "new_df.hist(bins=50, figsize=(10,8))\n",
        "plt.show() "
      ],
      "metadata": {
        "colab": {
          "base_uri": "https://localhost:8080/",
          "height": 499
        },
        "id": "gr9rtidYJ4N2",
        "outputId": "9348c7f1-1894-4c75-968a-a541649a00d8"
      },
      "execution_count": null,
      "outputs": [
        {
          "output_type": "display_data",
          "data": {
            "text/plain": [
              "<Figure size 720x576 with 9 Axes>"
            ],
            "image/png": "[encoded data removed]"
          },
          "metadata": {
            "needs_background": "light"
          }
        }
      ]
    },
    {
      "cell_type": "markdown",
      "source": [
        "Test sets"
      ],
      "metadata": {
        "id": "9N1-jnObkaVg"
      }
    },
    {
      "cell_type": "code",
      "source": [
        "filtered_test_set = filterData(test_set)"
      ],
      "metadata": {
        "id": "Ar_ME2Ghiefk"
      },
      "execution_count": null,
      "outputs": []
    },
    {
      "cell_type": "code",
      "source": [
        "X_test_set = filtered_test_set[:,[1,2,3,4,5,7]]\n",
        "Y_test_set = filtered_test_set[:,6]"
      ],
      "metadata": {
        "id": "BNsqSRxMiwyu"
      },
      "execution_count": null,
      "outputs": []
    },
    {
      "cell_type": "markdown",
      "source": [
        "#Linear regression model"
      ],
      "metadata": {
        "id": "ReTOEGM2i3un"
      }
    },
    {
      "cell_type": "code",
      "source": [
        "from sklearn.linear_model import LinearRegression\n",
        "LR_model = LinearRegression()\n",
        "LR_model.fit(X_train_set, Y_train_set)"
      ],
      "metadata": {
        "id": "L2_xtqLa0BYi",
        "colab": {
          "base_uri": "https://localhost:8080/"
        },
        "outputId": "abad8e83-9677-4db2-e9f6-e2c02676231d"
      },
      "execution_count": null,
      "outputs": [
        {
          "output_type": "execute_result",
          "data": {
            "text/plain": [
              "LinearRegression()"
            ]
          },
          "metadata": {},
          "execution_count": 37
        }
      ]
    },
    {
      "cell_type": "markdown",
      "source": [
        "Evaluation"
      ],
      "metadata": {
        "id": "j2MPZz6ticqj"
      }
    },
    {
      "cell_type": "code",
      "source": [
        "Y_predicted = LR_model.predict(X_test_set)"
      ],
      "metadata": {
        "id": "kmysP5emjBcv"
      },
      "execution_count": null,
      "outputs": []
    },
    {
      "cell_type": "code",
      "source": [
        "from sklearn.metrics import mean_squared_error\n",
        "lin_mse = mean_squared_error(Y_test_set, Y_predicted)\n",
        "# RMSE \n",
        "lin_rmse = np.sqrt(lin_mse)\n",
        "print(\"RMSE: \", lin_rmse)"
      ],
      "metadata": {
        "colab": {
          "base_uri": "https://localhost:8080/"
        },
        "id": "laqWSmS5jlMP",
        "outputId": "aa613e9d-8540-4b4c-ec5c-621d759dd432"
      },
      "execution_count": null,
      "outputs": [
        {
          "output_type": "stream",
          "name": "stdout",
          "text": [
            "RMSE:  53.55047323760638\n"
          ]
        }
      ]
    },
    {
      "cell_type": "markdown",
      "source": [
        "#DecisionTree"
      ],
      "metadata": {
        "id": "FbFP_8g9j2f7"
      }
    },
    {
      "cell_type": "code",
      "source": [
        "from sklearn.tree import DecisionTreeRegressor\n",
        "Tree_model = DecisionTreeRegressor()\n",
        "Tree_model.fit(X_train_set, Y_train_set)"
      ],
      "metadata": {
        "colab": {
          "base_uri": "https://localhost:8080/"
        },
        "id": "sLIC8Gmhj1-s",
        "outputId": "da04c42b-ac06-47b8-965c-ada30be0afd1"
      },
      "execution_count": null,
      "outputs": [
        {
          "output_type": "execute_result",
          "data": {
            "text/plain": [
              "DecisionTreeRegressor()"
            ]
          },
          "metadata": {},
          "execution_count": 40
        }
      ]
    },
    {
      "cell_type": "markdown",
      "source": [
        "Evaluation"
      ],
      "metadata": {
        "id": "P5tvjZ0ulGfE"
      }
    },
    {
      "cell_type": "code",
      "source": [
        "Y_predicted_tree = Tree_model.predict(X_test_set)\n"
      ],
      "metadata": {
        "id": "LthqzU-IkE3-"
      },
      "execution_count": null,
      "outputs": []
    },
    {
      "cell_type": "code",
      "source": [
        "tree_mse = mean_squared_error(Y_test_set, Y_predicted_tree)\n",
        "# RMSE \n",
        "tree_rmse = np.sqrt(tree_mse)\n",
        "print(\"RMSE: \", tree_rmse)"
      ],
      "metadata": {
        "colab": {
          "base_uri": "https://localhost:8080/"
        },
        "id": "WcUw0OwEknFi",
        "outputId": "0839a958-0231-41b6-988e-42120b099c37"
      },
      "execution_count": null,
      "outputs": [
        {
          "output_type": "stream",
          "name": "stdout",
          "text": [
            "RMSE:  11.000982433310742\n"
          ]
        }
      ]
    },
    {
      "cell_type": "markdown",
      "source": [
        "#RandomForest"
      ],
      "metadata": {
        "id": "Ka7vL2qjlDhf"
      }
    },
    {
      "cell_type": "code",
      "source": [
        "from sklearn.ensemble import RandomForestRegressor\n",
        "RF_model = RandomForestRegressor()\n",
        "RF_model.fit(X_train_set, Y_train_set)"
      ],
      "metadata": {
        "colab": {
          "base_uri": "https://localhost:8080/"
        },
        "id": "iiBtor9zlIkn",
        "outputId": "0a0b2791-f740-49e5-f918-8125b29879d0"
      },
      "execution_count": null,
      "outputs": [
        {
          "output_type": "execute_result",
          "data": {
            "text/plain": [
              "RandomForestRegressor()"
            ]
          },
          "metadata": {},
          "execution_count": 43
        }
      ]
    },
    {
      "cell_type": "markdown",
      "source": [
        "Evaluation"
      ],
      "metadata": {
        "id": "wVmhqDqOlJOn"
      }
    },
    {
      "cell_type": "code",
      "source": [
        "Y_predicted_rf = RF_model.predict(X_test_set)\n",
        "rf_mse = mean_squared_error(Y_test_set, Y_predicted_rf)\n",
        "# RMSE hisoblaymiz\n",
        "rf_rmse = np.sqrt(rf_mse)\n",
        "print(\"RMSE: \", rf_rmse)"
      ],
      "metadata": {
        "colab": {
          "base_uri": "https://localhost:8080/"
        },
        "id": "Dft4j6zClZqA",
        "outputId": "9919a596-2175-4217-a922-f1c4387a54b7"
      },
      "execution_count": null,
      "outputs": [
        {
          "output_type": "stream",
          "name": "stdout",
          "text": [
            "RMSE:  18.354350408787052\n"
          ]
        }
      ]
    },
    {
      "cell_type": "markdown",
      "source": [
        "Above we trained 3 models and got the following accuracies:\n",
        "- LinearRegression -> RMSE = 53.55 USD\n",
        "- DecisionTree -> RMSE = 11.0 USD\n",
        "- RandomForest -> RMSE = 18.35 USD\n",
        "\n",
        "**As we can see we got the best model using the DecisionTree algorithm with 11.0 USD of Root Mean Square Error**"
      ],
      "metadata": {
        "id": "q8DD_vASLmwL"
      }
    },
    {
      "cell_type": "code",
      "source": [
        "import joblib\n",
        "\n",
        "filename = 'Tree_model.jbl'\n",
        "joblib.dump(RF_model, filename) # save the model"
      ],
      "metadata": {
        "colab": {
          "base_uri": "https://localhost:8080/"
        },
        "id": "CP8k--QmM_S0",
        "outputId": "f0b4a670-eb9f-4882-c800-9bc9f994e710"
      },
      "execution_count": null,
      "outputs": [
        {
          "output_type": "execute_result",
          "data": {
            "text/plain": [
              "['Tree_model.jbl']"
            ]
          },
          "metadata": {},
          "execution_count": 45
        }
      ]
    }
  ]
}