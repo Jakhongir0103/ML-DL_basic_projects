{
  "nbformat": 4,
  "nbformat_minor": 0,
  "metadata": {
    "colab": {
      "name": "Simple Linear regression by hand.ipynb",
      "provenance": [],
      "collapsed_sections": [],
      "toc_visible": true,
      "include_colab_link": true
    },
    "kernelspec": {
      "name": "python3",
      "display_name": "Python 3"
    },
    "language_info": {
      "name": "python"
    }
  },
  "cells": [
    {
      "cell_type": "markdown",
      "metadata": {
        "id": "view-in-github",
        "colab_type": "text"
      },
      "source": [
        "<a href=\"https://colab.research.google.com/github/Jakhongir0103/ML_learning/blob/main/Simple_Linear_regression_by_hand.ipynb\" target=\"_parent\"><img src=\"https://colab.research.google.com/assets/colab-badge.svg\" alt=\"Open In Colab\"/></a>"
      ]
    },
    {
      "cell_type": "markdown",
      "source": [
        "#Simple Linear regression by hand"
      ],
      "metadata": {
        "id": "l3W95ME8Br6P"
      }
    },
    {
      "cell_type": "code",
      "source": [
        "import pandas as pd\n",
        "import numpy as np\n",
        "import sklearn\n",
        "import matplotlib.pyplot as plt\n",
        "%matplotlib inline\n",
        "import seaborn as sns"
      ],
      "metadata": {
        "id": "jECnrDdgxcG3"
      },
      "execution_count": 1,
      "outputs": []
    },
    {
      "cell_type": "code",
      "execution_count": 2,
      "metadata": {
        "colab": {
          "base_uri": "https://localhost:8080/",
          "height": 206
        },
        "id": "ZNYzfPKab-o4",
        "outputId": "fd6823fd-6a4c-4051-8ee3-d83fda28c8c8"
      },
      "outputs": [
        {
          "output_type": "execute_result",
          "data": {
            "text/plain": [
              "                                            location       district  rooms  \\\n",
              "0  город Ташкент, Юнусабадский район, Юнусабад 8-...   Юнусабадский      3   \n",
              "1  город Ташкент, Яккасарайский район, 1-й тупик ...  Яккасарайский      2   \n",
              "2  город Ташкент, Чиланзарский район, Чиланзар 2-...   Чиланзарский      2   \n",
              "3  город Ташкент, Чиланзарский район, Чиланзар 9-...   Чиланзарский      3   \n",
              "4  город Ташкент, Чиланзарский район, площадь Актепа   Чиланзарский      3   \n",
              "\n",
              "  size  level  max_levels  price  \n",
              "0   57      4           4  52000  \n",
              "1   52      4           5  56000  \n",
              "2   42      4           4  37000  \n",
              "3   65      1           4  49500  \n",
              "4   70      3           5  55000  "
            ],
            "text/html": [
              "\n",
              "  <div id=\"df-4443a250-e136-43d3-9381-983f9758c664\">\n",
              "    <div class=\"colab-df-container\">\n",
              "      <div>\n",
              "<style scoped>\n",
              "    .dataframe tbody tr th:only-of-type {\n",
              "        vertical-align: middle;\n",
              "    }\n",
              "\n",
              "    .dataframe tbody tr th {\n",
              "        vertical-align: top;\n",
              "    }\n",
              "\n",
              "    .dataframe thead th {\n",
              "        text-align: right;\n",
              "    }\n",
              "</style>\n",
              "<table border=\"1\" class=\"dataframe\">\n",
              "  <thead>\n",
              "    <tr style=\"text-align: right;\">\n",
              "      <th></th>\n",
              "      <th>location</th>\n",
              "      <th>district</th>\n",
              "      <th>rooms</th>\n",
              "      <th>size</th>\n",
              "      <th>level</th>\n",
              "      <th>max_levels</th>\n",
              "      <th>price</th>\n",
              "    </tr>\n",
              "  </thead>\n",
              "  <tbody>\n",
              "    <tr>\n",
              "      <th>0</th>\n",
              "      <td>город Ташкент, Юнусабадский район, Юнусабад 8-...</td>\n",
              "      <td>Юнусабадский</td>\n",
              "      <td>3</td>\n",
              "      <td>57</td>\n",
              "      <td>4</td>\n",
              "      <td>4</td>\n",
              "      <td>52000</td>\n",
              "    </tr>\n",
              "    <tr>\n",
              "      <th>1</th>\n",
              "      <td>город Ташкент, Яккасарайский район, 1-й тупик ...</td>\n",
              "      <td>Яккасарайский</td>\n",
              "      <td>2</td>\n",
              "      <td>52</td>\n",
              "      <td>4</td>\n",
              "      <td>5</td>\n",
              "      <td>56000</td>\n",
              "    </tr>\n",
              "    <tr>\n",
              "      <th>2</th>\n",
              "      <td>город Ташкент, Чиланзарский район, Чиланзар 2-...</td>\n",
              "      <td>Чиланзарский</td>\n",
              "      <td>2</td>\n",
              "      <td>42</td>\n",
              "      <td>4</td>\n",
              "      <td>4</td>\n",
              "      <td>37000</td>\n",
              "    </tr>\n",
              "    <tr>\n",
              "      <th>3</th>\n",
              "      <td>город Ташкент, Чиланзарский район, Чиланзар 9-...</td>\n",
              "      <td>Чиланзарский</td>\n",
              "      <td>3</td>\n",
              "      <td>65</td>\n",
              "      <td>1</td>\n",
              "      <td>4</td>\n",
              "      <td>49500</td>\n",
              "    </tr>\n",
              "    <tr>\n",
              "      <th>4</th>\n",
              "      <td>город Ташкент, Чиланзарский район, площадь Актепа</td>\n",
              "      <td>Чиланзарский</td>\n",
              "      <td>3</td>\n",
              "      <td>70</td>\n",
              "      <td>3</td>\n",
              "      <td>5</td>\n",
              "      <td>55000</td>\n",
              "    </tr>\n",
              "  </tbody>\n",
              "</table>\n",
              "</div>\n",
              "      <button class=\"colab-df-convert\" onclick=\"convertToInteractive('df-4443a250-e136-43d3-9381-983f9758c664')\"\n",
              "              title=\"Convert this dataframe to an interactive table.\"\n",
              "              style=\"display:none;\">\n",
              "        \n",
              "  <svg xmlns=\"http://www.w3.org/2000/svg\" height=\"24px\"viewBox=\"0 0 24 24\"\n",
              "       width=\"24px\">\n",
              "    <path d=\"M0 0h24v24H0V0z\" fill=\"none\"/>\n",
              "    <path d=\"M18.56 5.44l.94 2.06.94-2.06 2.06-.94-2.06-.94-.94-2.06-.94 2.06-2.06.94zm-11 1L8.5 8.5l.94-2.06 2.06-.94-2.06-.94L8.5 2.5l-.94 2.06-2.06.94zm10 10l.94 2.06.94-2.06 2.06-.94-2.06-.94-.94-2.06-.94 2.06-2.06.94z\"/><path d=\"M17.41 7.96l-1.37-1.37c-.4-.4-.92-.59-1.43-.59-.52 0-1.04.2-1.43.59L10.3 9.45l-7.72 7.72c-.78.78-.78 2.05 0 2.83L4 21.41c.39.39.9.59 1.41.59.51 0 1.02-.2 1.41-.59l7.78-7.78 2.81-2.81c.8-.78.8-2.07 0-2.86zM5.41 20L4 18.59l7.72-7.72 1.47 1.35L5.41 20z\"/>\n",
              "  </svg>\n",
              "      </button>\n",
              "      \n",
              "  <style>\n",
              "    .colab-df-container {\n",
              "      display:flex;\n",
              "      flex-wrap:wrap;\n",
              "      gap: 12px;\n",
              "    }\n",
              "\n",
              "    .colab-df-convert {\n",
              "      background-color: #E8F0FE;\n",
              "      border: none;\n",
              "      border-radius: 50%;\n",
              "      cursor: pointer;\n",
              "      display: none;\n",
              "      fill: #1967D2;\n",
              "      height: 32px;\n",
              "      padding: 0 0 0 0;\n",
              "      width: 32px;\n",
              "    }\n",
              "\n",
              "    .colab-df-convert:hover {\n",
              "      background-color: #E2EBFA;\n",
              "      box-shadow: 0px 1px 2px rgba(60, 64, 67, 0.3), 0px 1px 3px 1px rgba(60, 64, 67, 0.15);\n",
              "      fill: #174EA6;\n",
              "    }\n",
              "\n",
              "    [theme=dark] .colab-df-convert {\n",
              "      background-color: #3B4455;\n",
              "      fill: #D2E3FC;\n",
              "    }\n",
              "\n",
              "    [theme=dark] .colab-df-convert:hover {\n",
              "      background-color: #434B5C;\n",
              "      box-shadow: 0px 1px 3px 1px rgba(0, 0, 0, 0.15);\n",
              "      filter: drop-shadow(0px 1px 2px rgba(0, 0, 0, 0.3));\n",
              "      fill: #FFFFFF;\n",
              "    }\n",
              "  </style>\n",
              "\n",
              "      <script>\n",
              "        const buttonEl =\n",
              "          document.querySelector('#df-4443a250-e136-43d3-9381-983f9758c664 button.colab-df-convert');\n",
              "        buttonEl.style.display =\n",
              "          google.colab.kernel.accessAllowed ? 'block' : 'none';\n",
              "\n",
              "        async function convertToInteractive(key) {\n",
              "          const element = document.querySelector('#df-4443a250-e136-43d3-9381-983f9758c664');\n",
              "          const dataTable =\n",
              "            await google.colab.kernel.invokeFunction('convertToInteractive',\n",
              "                                                     [key], {});\n",
              "          if (!dataTable) return;\n",
              "\n",
              "          const docLinkHtml = 'Like what you see? Visit the ' +\n",
              "            '<a target=\"_blank\" href=https://colab.research.google.com/notebooks/data_table.ipynb>data table notebook</a>'\n",
              "            + ' to learn more about interactive tables.';\n",
              "          element.innerHTML = '';\n",
              "          dataTable['output_type'] = 'display_data';\n",
              "          await google.colab.output.renderOutput(dataTable, element);\n",
              "          const docLink = document.createElement('div');\n",
              "          docLink.innerHTML = docLinkHtml;\n",
              "          element.appendChild(docLink);\n",
              "        }\n",
              "      </script>\n",
              "    </div>\n",
              "  </div>\n",
              "  "
            ]
          },
          "metadata": {},
          "execution_count": 2
        }
      ],
      "source": [
        "df = pd.read_csv('https://raw.githubusercontent.com/anvarnarz/praktikum_datasets/main/housing_data_08-02-2021.csv')\n",
        "df.head()"
      ]
    },
    {
      "cell_type": "code",
      "source": [
        "housing = df[df.district=='Чиланзарский']\n",
        "housing.drop(index=housing[housing.price == 'Договорная'].index, inplace=True)"
      ],
      "metadata": {
        "id": "wJmsGwbeqvMt"
      },
      "execution_count": null,
      "outputs": []
    },
    {
      "cell_type": "code",
      "source": [
        "housing['size'] = pd.to_numeric(housing['size'])\n",
        "housing['price'] = pd.to_numeric(housing['price'])"
      ],
      "metadata": {
        "id": "yQGVhGXhqwHK"
      },
      "execution_count": null,
      "outputs": []
    },
    {
      "cell_type": "code",
      "source": [
        "housing.drop(index=housing[housing.price > 200000].index, inplace=True)\n",
        "housing.drop(index=housing[housing['size'] > 200].index, inplace=True)"
      ],
      "metadata": {
        "id": "l4BlDC4LrwOv"
      },
      "execution_count": null,
      "outputs": []
    },
    {
      "cell_type": "code",
      "source": [
        "plt.figure(figsize=(10,6))\n",
        "sns.regplot(data=housing, x='size', y='price', line_kws={\"color\": \"red\"})\n",
        "plt.show()"
      ],
      "metadata": {
        "colab": {
          "base_uri": "https://localhost:8080/",
          "height": 388
        },
        "id": "ZpAP3M1jrmFn",
        "outputId": "81dcb61e-691c-4c71-e63a-cf1c1424b6f9"
      },
      "execution_count": 42,
      "outputs": [
        {
          "output_type": "display_data",
          "data": {
            "text/plain": [
              "<Figure size 720x432 with 1 Axes>"
            ],
            "image/png": "[encoded data removed]"
          },
          "metadata": {
            "needs_background": "light"
          }
        }
      ]
    },
    {
      "cell_type": "code",
      "source": [
        "X = np.asanyarray(housing[['size']])\n",
        "Y = np.asanyarray(housing[['price']])"
      ],
      "metadata": {
        "id": "Rtt0ImiRVSJS"
      },
      "execution_count": 43,
      "outputs": []
    },
    {
      "cell_type": "code",
      "source": [
        "x_mean = X.mean()\n",
        "y_mean = Y.mean()"
      ],
      "metadata": {
        "id": "C-lMfq5mtJPB"
      },
      "execution_count": 44,
      "outputs": []
    },
    {
      "cell_type": "code",
      "source": [
        "theta1 = sum((X-x_mean)*(Y-y_mean)) / sum((X-x_mean)**2)\n",
        "theta0 = y_mean - theta1 * x_mean\n",
        "print(f'theta0={theta0}')\n",
        "print(f'theta1={theta1}')"
      ],
      "metadata": {
        "id": "AlOPJRzKukBG",
        "colab": {
          "base_uri": "https://localhost:8080/"
        },
        "outputId": "d73c1bd9-ae02-4933-ed4a-0ff8f6707260"
      },
      "execution_count": 65,
      "outputs": [
        {
          "output_type": "stream",
          "name": "stdout",
          "text": [
            "theta0=[-1282.42643634]\n",
            "theta1=[758.57112789]\n"
          ]
        }
      ]
    },
    {
      "cell_type": "code",
      "source": [
        "def simp_regression(x):\n",
        "  return theta0 + theta1 * x"
      ],
      "metadata": {
        "id": "9PLGSSxxvx5p"
      },
      "execution_count": 67,
      "outputs": []
    },
    {
      "cell_type": "code",
      "source": [
        "y_predicted = simp_regression(X)"
      ],
      "metadata": {
        "id": "zTfX8op4xCaI"
      },
      "execution_count": 68,
      "outputs": []
    },
    {
      "cell_type": "markdown",
      "source": [
        "### root mean squared error"
      ],
      "metadata": {
        "id": "_L54e3spW0X6"
      }
    },
    {
      "cell_type": "code",
      "source": [
        "rmse = np.sqrt(np.sum((y_predicted-Y)**2)/len(y_predicted))\n",
        "print(f'RMSE: {rmse}')"
      ],
      "metadata": {
        "colab": {
          "base_uri": "https://localhost:8080/"
        },
        "id": "W1yosh_XVt3v",
        "outputId": "0a806769-b594-4c45-eb28-a4fac2350ca8"
      },
      "execution_count": 69,
      "outputs": [
        {
          "output_type": "stream",
          "name": "stdout",
          "text": [
            "RMSE: 11788.524949918552\n"
          ]
        }
      ]
    },
    {
      "cell_type": "markdown",
      "source": [
        "# Simple linear regression with sklearn"
      ],
      "metadata": {
        "id": "8B2Vx7MySlSO"
      }
    },
    {
      "cell_type": "code",
      "source": [
        "from sklearn.model_selection import train_test_split\n",
        "train, test = train_test_split(housing, test_size=0.1, random_state=42)"
      ],
      "metadata": {
        "id": "8t75uVLBS9Qj"
      },
      "execution_count": 26,
      "outputs": []
    },
    {
      "cell_type": "code",
      "source": [
        "X_tr = np.asanyarray(train[['size']])\n",
        "Y_tr = np.asanyarray(train[['price']])"
      ],
      "metadata": {
        "id": "tn8RMDqNTpBe"
      },
      "execution_count": 57,
      "outputs": []
    },
    {
      "cell_type": "code",
      "source": [
        "from sklearn import linear_model\n",
        "LR_model = linear_model.LinearRegression()\n",
        "\n",
        "LR_model.fit(X_tr, Y_tr)\n",
        "\n",
        "theta1_model = LR_model.coef_[0][0]\n",
        "theta0_model = LR_model.intercept_[0]"
      ],
      "metadata": {
        "id": "GFZ2JdbPSqbl"
      },
      "execution_count": 70,
      "outputs": []
    },
    {
      "cell_type": "code",
      "source": [
        "print(f'theta0={theta0}')\n",
        "print(f'theta1={theta1}')"
      ],
      "metadata": {
        "colab": {
          "base_uri": "https://localhost:8080/"
        },
        "id": "wpSJZ_iGS52H",
        "outputId": "3d795e3f-87a3-4844-f563-79e65bf4e8f8"
      },
      "execution_count": 66,
      "outputs": [
        {
          "output_type": "stream",
          "name": "stdout",
          "text": [
            "theta0=[-1282.42643634]\n",
            "theta1=[758.57112789]\n"
          ]
        }
      ]
    },
    {
      "cell_type": "code",
      "source": [
        "X_ts = np.asanyarray(test[['size']])\n",
        "Y_ts = np.asanyarray(test[['price']])"
      ],
      "metadata": {
        "id": "7tW_GmISWvbO"
      },
      "execution_count": 71,
      "outputs": []
    },
    {
      "cell_type": "code",
      "source": [
        "y_model_predicted = LR_model.predict(X_ts)"
      ],
      "metadata": {
        "id": "-tD1uiDhT40N"
      },
      "execution_count": 72,
      "outputs": []
    },
    {
      "cell_type": "code",
      "source": [
        "from sklearn.metrics import mean_squared_error\n",
        "rmse_model = np.sqrt(mean_squared_error(Y_ts, y_model_predicted))\n",
        "print(f'RMSE: {rmse_model}')"
      ],
      "metadata": {
        "colab": {
          "base_uri": "https://localhost:8080/"
        },
        "id": "r4MhdvlNXGEv",
        "outputId": "709b3d00-32bc-4582-baef-838746c50a75"
      },
      "execution_count": 73,
      "outputs": [
        {
          "output_type": "stream",
          "name": "stdout",
          "text": [
            "RMSE: 113713.35977620402\n"
          ]
        }
      ]
    }
  ]
}